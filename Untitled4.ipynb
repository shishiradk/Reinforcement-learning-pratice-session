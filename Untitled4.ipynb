{
  "nbformat": 4,
  "nbformat_minor": 0,
  "metadata": {
    "colab": {
      "provenance": [],
      "authorship_tag": "ABX9TyN2KpPljew0Mpj0KjyWyQZq",
      "include_colab_link": true
    },
    "kernelspec": {
      "name": "python3",
      "display_name": "Python 3"
    },
    "language_info": {
      "name": "python"
    }
  },
  "cells": [
    {
      "cell_type": "markdown",
      "metadata": {
        "id": "view-in-github",
        "colab_type": "text"
      },
      "source": [
        "<a href=\"https://colab.research.google.com/github/shishiradk/Reinforcement-learning-pratice-session/blob/main/Untitled4.ipynb\" target=\"_parent\"><img src=\"https://colab.research.google.com/assets/colab-badge.svg\" alt=\"Open In Colab\"/></a>"
      ]
    },
    {
      "cell_type": "code",
      "source": [
        "import random\n",
        "from typing import List"
      ],
      "metadata": {
        "id": "3rMRMNqW9j-y"
      },
      "execution_count": 17,
      "outputs": []
    },
    {
      "cell_type": "code",
      "execution_count": 18,
      "metadata": {
        "id": "YroVtJUQzzjn"
      },
      "outputs": [],
      "source": [
        "\n",
        "\n",
        "class SampleEnvironment:\n",
        "  def __init__(self):\n",
        "    self.steps_left = 20\n",
        "\n",
        "  def get_observation(self) -> List[float]:\n",
        "    return[0.0,0.0,0.0]\n",
        "\n",
        "  def get_actions(self) -> List[int]:\n",
        "    return[0,1]\n",
        "\n",
        "  def is_done(self) -> bool:\n",
        "    return self.steps_left == 0\n",
        "\n",
        "  def action(self,action: int) -> float:\n",
        "    if self.is_done():\n",
        "      raise Exception(\"Game is over\")\n",
        "    self.steps_left -=1\n",
        "    return random.random()\n",
        ""
      ]
    },
    {
      "cell_type": "code",
      "source": [
        "class Agent:\n",
        "    def __init__(self):\n",
        "        self.total_reward = 0.0\n",
        "\n",
        "    def step(self, env: SampleEnvironment):\n",
        "        current_obs = env.get_observation()\n",
        "        print(\"Observation:\", current_obs)\n",
        "\n",
        "        actions = env.get_actions()\n",
        "        print(\"Available actions:\", actions)\n",
        "\n",
        "        reward = env.action(random.choice(actions))\n",
        "        print(\"Received reward:\", reward)\n",
        "\n",
        "        self.total_reward += reward\n"
      ],
      "metadata": {
        "id": "-8na8TkJ4JKl"
      },
      "execution_count": 32,
      "outputs": []
    },
    {
      "cell_type": "code",
      "source": [
        "if __name__ == \"__main__\":\n",
        "    env = SampleEnvironment()\n",
        "    agent = Agent()\n",
        "\n",
        "    while not env.is_done():\n",
        "        agent.step(env)\n",
        "print(\"Total reward got: %4f\" % agent.total_reward)"
      ],
      "metadata": {
        "colab": {
          "base_uri": "https://localhost:8080/"
        },
        "id": "aJigON-a8Jzr",
        "outputId": "0b640570-845f-4821-ddb4-162448e4c2c2"
      },
      "execution_count": 36,
      "outputs": [
        {
          "output_type": "stream",
          "name": "stdout",
          "text": [
            "Observation: [0.0, 0.0, 0.0]\n",
            "Available actions: [0, 1]\n",
            "Received reward: 0.08864700024535066\n",
            "Observation: [0.0, 0.0, 0.0]\n",
            "Available actions: [0, 1]\n",
            "Received reward: 0.49976155486046747\n",
            "Observation: [0.0, 0.0, 0.0]\n",
            "Available actions: [0, 1]\n",
            "Received reward: 0.40256514547500855\n",
            "Observation: [0.0, 0.0, 0.0]\n",
            "Available actions: [0, 1]\n",
            "Received reward: 0.237670341673341\n",
            "Observation: [0.0, 0.0, 0.0]\n",
            "Available actions: [0, 1]\n",
            "Received reward: 0.8814528010419415\n",
            "Observation: [0.0, 0.0, 0.0]\n",
            "Available actions: [0, 1]\n",
            "Received reward: 0.6933295776722428\n",
            "Observation: [0.0, 0.0, 0.0]\n",
            "Available actions: [0, 1]\n",
            "Received reward: 0.5469168331329617\n",
            "Observation: [0.0, 0.0, 0.0]\n",
            "Available actions: [0, 1]\n",
            "Received reward: 0.25292027990379706\n",
            "Observation: [0.0, 0.0, 0.0]\n",
            "Available actions: [0, 1]\n",
            "Received reward: 0.926678957706709\n",
            "Observation: [0.0, 0.0, 0.0]\n",
            "Available actions: [0, 1]\n",
            "Received reward: 0.01467634770761772\n",
            "Observation: [0.0, 0.0, 0.0]\n",
            "Available actions: [0, 1]\n",
            "Received reward: 0.1406259379772955\n",
            "Observation: [0.0, 0.0, 0.0]\n",
            "Available actions: [0, 1]\n",
            "Received reward: 0.6352103915497951\n",
            "Observation: [0.0, 0.0, 0.0]\n",
            "Available actions: [0, 1]\n",
            "Received reward: 0.8454768846167129\n",
            "Observation: [0.0, 0.0, 0.0]\n",
            "Available actions: [0, 1]\n",
            "Received reward: 0.2388381310006218\n",
            "Observation: [0.0, 0.0, 0.0]\n",
            "Available actions: [0, 1]\n",
            "Received reward: 0.17968101911697842\n",
            "Observation: [0.0, 0.0, 0.0]\n",
            "Available actions: [0, 1]\n",
            "Received reward: 0.7250461506747232\n",
            "Observation: [0.0, 0.0, 0.0]\n",
            "Available actions: [0, 1]\n",
            "Received reward: 0.8761382164252576\n",
            "Observation: [0.0, 0.0, 0.0]\n",
            "Available actions: [0, 1]\n",
            "Received reward: 0.6535441577359947\n",
            "Observation: [0.0, 0.0, 0.0]\n",
            "Available actions: [0, 1]\n",
            "Received reward: 0.4541072013414963\n",
            "Observation: [0.0, 0.0, 0.0]\n",
            "Available actions: [0, 1]\n",
            "Received reward: 0.2321190369220857\n",
            "Total reward got: 9.525406\n"
          ]
        }
      ]
    },
    {
      "cell_type": "code",
      "source": [],
      "metadata": {
        "id": "dsRkGXmA-R18"
      },
      "execution_count": null,
      "outputs": []
    }
  ]
}